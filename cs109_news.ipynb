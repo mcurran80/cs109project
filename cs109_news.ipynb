{
 "cells": [
  {
   "cell_type": "code",
   "execution_count": 1,
   "metadata": {
    "collapsed": false
   },
   "outputs": [],
   "source": [
    "import numpy as np\n",
    "import pandas as pd\n",
    "import scipy as sp\n",
    "import matplotlib\n",
    "import matplotlib.pyplot as plt\n",
    "from mpl_toolkits.mplot3d import Axes3D\n",
    "import matplotlib.cm as cmx\n",
    "import matplotlib.colors as colors\n",
    "\n",
    "from sklearn.linear_model import LogisticRegression as LogReg\n",
    "from sklearn.linear_model import LogisticRegressionCV as LogRegCV\n",
    "from sklearn.feature_extraction.text import CountVectorizer\n",
    "from sklearn.preprocessing import LabelEncoder\n",
    "from sklearn.metrics import confusion_matrix\n",
    "from sklearn.neighbors import KNeighborsClassifier as KNN\n",
    "from sklearn.decomposition import PCA\n",
    "from sklearn import preprocessing\n",
    "from sklearn import tree\n",
    "from sklearn import ensemble\n",
    "from sklearn.cross_validation import KFold\n",
    "import sys\n",
    "import StringIO\n",
    "\n",
    "%matplotlib inline"
   ]
  },
  {
   "cell_type": "code",
   "execution_count": 2,
   "metadata": {
    "collapsed": false
   },
   "outputs": [
    {
     "name": "stderr",
     "output_type": "stream",
     "text": [
      "C:\\Users\\dsinha4\\AppData\\Local\\Continuum\\Anaconda2\\lib\\site-packages\\pandas\\io\\data.py:35: FutureWarning: \n",
      "The pandas.io.data module is moved to a separate package (pandas-datareader) and will be removed from pandas in a future version.\n",
      "After installing the pandas-datareader package (https://github.com/pydata/pandas-datareader), you can change the import ``from pandas.io import data, wb`` to ``from pandas_datareader import data, wb``.\n",
      "  FutureWarning)\n"
     ]
    },
    {
     "name": "stdout",
     "output_type": "stream",
     "text": [
      "Date\n",
      "2011-01-03    23.727305\n",
      "2011-01-04    23.820586\n",
      "2011-01-05    23.744265\n",
      "2011-01-06    24.439633\n",
      "2011-01-07    24.253071\n",
      "Name: Adj Close, dtype: float64\n"
     ]
    }
   ],
   "source": [
    "from pandas.io.data import DataReader\n",
    "from datetime import datetime\n",
    "\n",
    "ms = DataReader('MSFT',  'yahoo', datetime(2011, 1, 1), datetime(2016, 11, 30))\n",
    "print(ms['Adj Close']).head()\n"
   ]
  },
  {
   "cell_type": "code",
   "execution_count": 3,
   "metadata": {
    "collapsed": false
   },
   "outputs": [
    {
     "data": {
      "text/html": [
       "<div>\n",
       "<table border=\"1\" class=\"dataframe\">\n",
       "  <thead>\n",
       "    <tr style=\"text-align: right;\">\n",
       "      <th></th>\n",
       "      <th>Open</th>\n",
       "      <th>High</th>\n",
       "      <th>Low</th>\n",
       "      <th>Close</th>\n",
       "      <th>Volume</th>\n",
       "      <th>Adj Close</th>\n",
       "    </tr>\n",
       "    <tr>\n",
       "      <th>Date</th>\n",
       "      <th></th>\n",
       "      <th></th>\n",
       "      <th></th>\n",
       "      <th></th>\n",
       "      <th></th>\n",
       "      <th></th>\n",
       "    </tr>\n",
       "  </thead>\n",
       "  <tbody>\n",
       "    <tr>\n",
       "      <th>2011-01-03</th>\n",
       "      <td>28.049999</td>\n",
       "      <td>28.18</td>\n",
       "      <td>27.920000</td>\n",
       "      <td>27.98</td>\n",
       "      <td>53443800</td>\n",
       "      <td>23.727305</td>\n",
       "    </tr>\n",
       "    <tr>\n",
       "      <th>2011-01-04</th>\n",
       "      <td>27.940001</td>\n",
       "      <td>28.17</td>\n",
       "      <td>27.850000</td>\n",
       "      <td>28.09</td>\n",
       "      <td>54405600</td>\n",
       "      <td>23.820586</td>\n",
       "    </tr>\n",
       "    <tr>\n",
       "      <th>2011-01-05</th>\n",
       "      <td>27.900000</td>\n",
       "      <td>28.01</td>\n",
       "      <td>27.770000</td>\n",
       "      <td>28.00</td>\n",
       "      <td>58998700</td>\n",
       "      <td>23.744265</td>\n",
       "    </tr>\n",
       "    <tr>\n",
       "      <th>2011-01-06</th>\n",
       "      <td>28.040001</td>\n",
       "      <td>28.85</td>\n",
       "      <td>27.860001</td>\n",
       "      <td>28.82</td>\n",
       "      <td>88026300</td>\n",
       "      <td>24.439633</td>\n",
       "    </tr>\n",
       "    <tr>\n",
       "      <th>2011-01-07</th>\n",
       "      <td>28.639999</td>\n",
       "      <td>28.74</td>\n",
       "      <td>28.250000</td>\n",
       "      <td>28.60</td>\n",
       "      <td>73762000</td>\n",
       "      <td>24.253071</td>\n",
       "    </tr>\n",
       "  </tbody>\n",
       "</table>\n",
       "</div>"
      ],
      "text/plain": [
       "                 Open   High        Low  Close    Volume  Adj Close\n",
       "Date                                                               \n",
       "2011-01-03  28.049999  28.18  27.920000  27.98  53443800  23.727305\n",
       "2011-01-04  27.940001  28.17  27.850000  28.09  54405600  23.820586\n",
       "2011-01-05  27.900000  28.01  27.770000  28.00  58998700  23.744265\n",
       "2011-01-06  28.040001  28.85  27.860001  28.82  88026300  24.439633\n",
       "2011-01-07  28.639999  28.74  28.250000  28.60  73762000  24.253071"
      ]
     },
     "execution_count": 3,
     "metadata": {},
     "output_type": "execute_result"
    }
   ],
   "source": [
    "ms.head()"
   ]
  },
  {
   "cell_type": "code",
   "execution_count": 4,
   "metadata": {
    "collapsed": false
   },
   "outputs": [
    {
     "data": {
      "text/plain": [
       "Index([u'Open', u'High', u'Low', u'Close', u'Volume', u'Adj Close'], dtype='object')"
      ]
     },
     "execution_count": 4,
     "metadata": {},
     "output_type": "execute_result"
    }
   ],
   "source": [
    " ms.columns"
   ]
  },
  {
   "cell_type": "markdown",
   "metadata": {
    "collapsed": false
   },
   "source": [
    "#### News Segmentation"
   ]
  },
  {
   "cell_type": "code",
   "execution_count": 5,
   "metadata": {
    "collapsed": true
   },
   "outputs": [],
   "source": [
    "# Print decision tree model 'dt'\n",
    "def display_dt(model):\n",
    "    dummy_io = StringIO.StringIO() \n",
    "    tree.export_graphviz(model, out_file = dummy_io) \n",
    "    graph = pydot.graph_from_dot_data(dummy_io.getvalue()) \n",
    "    graph.write_pdf(\"tree.pdf\") \n",
    "    print dummy_io.getvalue()"
   ]
  },
  {
   "cell_type": "code",
   "execution_count": 6,
   "metadata": {
    "collapsed": false
   },
   "outputs": [
    {
     "name": "stdout",
     "output_type": "stream",
     "text": [
      "(5141, 5)\n"
     ]
    }
   ],
   "source": [
    "# define column header\n",
    "#news_header = ['FactSet','Browser','Source', 'DateTime','Headline','Class']\n",
    "\n",
    "# read dataset\n",
    "news_df = pd.read_csv('datasets/News - Headlines 30-Nov-16.txt', delimiter='\\t') #, names=news_header)\n",
    "print(news_df.shape)"
   ]
  },
  {
   "cell_type": "code",
   "execution_count": 7,
   "metadata": {
    "collapsed": false
   },
   "outputs": [
    {
     "data": {
      "text/html": [
       "<div>\n",
       "<table border=\"1\" class=\"dataframe\">\n",
       "  <thead>\n",
       "    <tr style=\"text-align: right;\">\n",
       "      <th></th>\n",
       "      <th>FactSet</th>\n",
       "      <th>Browser</th>\n",
       "      <th>Source</th>\n",
       "      <th>Date/Time</th>\n",
       "      <th>Headline</th>\n",
       "    </tr>\n",
       "  </thead>\n",
       "  <tbody>\n",
       "    <tr>\n",
       "      <th>0</th>\n",
       "      <td>FactSet</td>\n",
       "      <td>Browser</td>\n",
       "      <td>PRN</td>\n",
       "      <td>30 Nov '16 07:45 PM</td>\n",
       "      <td>Microsoft announces quarterly dividend</td>\n",
       "    </tr>\n",
       "    <tr>\n",
       "      <th>1</th>\n",
       "      <td>FactSet</td>\n",
       "      <td>Browser</td>\n",
       "      <td>TWTR</td>\n",
       "      <td>30 Nov '16 07:51 AM</td>\n",
       "      <td>Twitter - @SEEKINGALPHA_FS: Microsoft made oth...</td>\n",
       "    </tr>\n",
       "    <tr>\n",
       "      <th>2</th>\n",
       "      <td>FactSet</td>\n",
       "      <td>Browser</td>\n",
       "      <td>FCSTEV</td>\n",
       "      <td>29 Nov '16 12:24 PM</td>\n",
       "      <td>Microsoft Corp.(MSFT-US) Schedules Barclays Gl...</td>\n",
       "    </tr>\n",
       "    <tr>\n",
       "      <th>3</th>\n",
       "      <td>FactSet</td>\n",
       "      <td>Browser</td>\n",
       "      <td>FTH</td>\n",
       "      <td>29 Nov '16 12:00 AM</td>\n",
       "      <td>Can Microsoft get back in the game with AI?</td>\n",
       "    </tr>\n",
       "    <tr>\n",
       "      <th>4</th>\n",
       "      <td>FactSet</td>\n",
       "      <td>Browser</td>\n",
       "      <td>PRN</td>\n",
       "      <td>28 Nov '16 11:00 PM</td>\n",
       "      <td>Microsoft HoloLens is coming to Japan</td>\n",
       "    </tr>\n",
       "  </tbody>\n",
       "</table>\n",
       "</div>"
      ],
      "text/plain": [
       "   FactSet  Browser  Source            Date/Time  \\\n",
       "0  FactSet  Browser     PRN  30 Nov '16 07:45 PM   \n",
       "1  FactSet  Browser    TWTR  30 Nov '16 07:51 AM   \n",
       "2  FactSet  Browser  FCSTEV  29 Nov '16 12:24 PM   \n",
       "3  FactSet  Browser     FTH  29 Nov '16 12:00 AM   \n",
       "4  FactSet  Browser     PRN  28 Nov '16 11:00 PM   \n",
       "\n",
       "                                            Headline  \n",
       "0             Microsoft announces quarterly dividend  \n",
       "1  Twitter - @SEEKINGALPHA_FS: Microsoft made oth...  \n",
       "2  Microsoft Corp.(MSFT-US) Schedules Barclays Gl...  \n",
       "3        Can Microsoft get back in the game with AI?  \n",
       "4              Microsoft HoloLens is coming to Japan  "
      ]
     },
     "execution_count": 7,
     "metadata": {},
     "output_type": "execute_result"
    }
   ],
   "source": [
    "news_df.head()"
   ]
  },
  {
   "cell_type": "code",
   "execution_count": 8,
   "metadata": {
    "collapsed": false
   },
   "outputs": [],
   "source": [
    "#news_df.tail()"
   ]
  },
  {
   "cell_type": "code",
   "execution_count": 9,
   "metadata": {
    "collapsed": false
   },
   "outputs": [
    {
     "data": {
      "text/html": [
       "<div>\n",
       "<table border=\"1\" class=\"dataframe\">\n",
       "  <thead>\n",
       "    <tr style=\"text-align: right;\">\n",
       "      <th></th>\n",
       "      <th>FactSet</th>\n",
       "      <th>Browser</th>\n",
       "      <th>Source</th>\n",
       "      <th>Date/Time</th>\n",
       "      <th>Headline</th>\n",
       "      <th>Class</th>\n",
       "    </tr>\n",
       "  </thead>\n",
       "  <tbody>\n",
       "    <tr>\n",
       "      <th>5130</th>\n",
       "      <td>FactSet</td>\n",
       "      <td>Browser</td>\n",
       "      <td>FCST</td>\n",
       "      <td>01 Dec '11 03:12 PM</td>\n",
       "      <td>CORRECTED TRANSCRIPT: Microsoft Corp.(MSFT), C...</td>\n",
       "      <td>0</td>\n",
       "    </tr>\n",
       "    <tr>\n",
       "      <th>5131</th>\n",
       "      <td>FactSet</td>\n",
       "      <td>Browser</td>\n",
       "      <td>PRN</td>\n",
       "      <td>01 Dec '11 03:01 AM</td>\n",
       "      <td>Bing Unveils Magical Holiday Calendar Featurin...</td>\n",
       "      <td>0</td>\n",
       "    </tr>\n",
       "    <tr>\n",
       "      <th>5132</th>\n",
       "      <td>FactSet</td>\n",
       "      <td>Browser</td>\n",
       "      <td>PRN</td>\n",
       "      <td>01 Dec '11 02:00 AM</td>\n",
       "      <td>Eye on Earth Enables Cloud-Based Environmental...</td>\n",
       "      <td>0</td>\n",
       "    </tr>\n",
       "    <tr>\n",
       "      <th>5133</th>\n",
       "      <td>FactSet</td>\n",
       "      <td>Browser</td>\n",
       "      <td>BW</td>\n",
       "      <td>30 Nov '11 11:39 AM</td>\n",
       "      <td>Big Bang LLC Announces Beta Release of the Uni...</td>\n",
       "      <td>0</td>\n",
       "    </tr>\n",
       "    <tr>\n",
       "      <th>5134</th>\n",
       "      <td>FactSet</td>\n",
       "      <td>Browser</td>\n",
       "      <td>FIO</td>\n",
       "      <td>30 Nov '11 09:24 AM</td>\n",
       "      <td>Ownership Updates: MICROSOFT CORP  COM (MSFT) ...</td>\n",
       "      <td>0</td>\n",
       "    </tr>\n",
       "  </tbody>\n",
       "</table>\n",
       "</div>"
      ],
      "text/plain": [
       "      FactSet  Browser Source            Date/Time  \\\n",
       "5130  FactSet  Browser   FCST  01 Dec '11 03:12 PM   \n",
       "5131  FactSet  Browser    PRN  01 Dec '11 03:01 AM   \n",
       "5132  FactSet  Browser    PRN  01 Dec '11 02:00 AM   \n",
       "5133  FactSet  Browser     BW  30 Nov '11 11:39 AM   \n",
       "5134  FactSet  Browser    FIO  30 Nov '11 09:24 AM   \n",
       "\n",
       "                                               Headline  Class  \n",
       "5130  CORRECTED TRANSCRIPT: Microsoft Corp.(MSFT), C...      0  \n",
       "5131  Bing Unveils Magical Holiday Calendar Featurin...      0  \n",
       "5132  Eye on Earth Enables Cloud-Based Environmental...      0  \n",
       "5133  Big Bang LLC Announces Beta Release of the Uni...      0  \n",
       "5134  Ownership Updates: MICROSOFT CORP  COM (MSFT) ...      0  "
      ]
     },
     "execution_count": 9,
     "metadata": {},
     "output_type": "execute_result"
    }
   ],
   "source": [
    "news_df[\"Class\"] = 0\n",
    "news_df = news_df.dropna()\n",
    "\n",
    "news_df.tail()"
   ]
  },
  {
   "cell_type": "code",
   "execution_count": 10,
   "metadata": {
    "collapsed": false
   },
   "outputs": [
    {
     "name": "stdout",
     "output_type": "stream",
     "text": [
      "   FactSet  Browser  Source            Date/Time  \\\n",
      "0  FactSet  Browser     PRN  30 Nov '16 07:45 PM   \n",
      "1  FactSet  Browser    TWTR  30 Nov '16 07:51 AM   \n",
      "2  FactSet  Browser  FCSTEV  29 Nov '16 12:24 PM   \n",
      "3  FactSet  Browser     FTH  29 Nov '16 12:00 AM   \n",
      "4  FactSet  Browser     PRN  28 Nov '16 11:00 PM   \n",
      "\n",
      "                                            Headline  Class        Date  \\\n",
      "0             Microsoft announces quarterly dividend      0  2016-11-30   \n",
      "1  Twitter Microsoft made other attempts to buy L...      0  2016-11-30   \n",
      "2  Microsoft MSFT US Schedules Barclays Global Te...      0  2016-11-29   \n",
      "3        Can Microsoft get back in the game with AI       0  2016-11-29   \n",
      "4              Microsoft HoloLens is coming to Japan      0  2016-11-28   \n",
      "\n",
      "                                                text  \n",
      "0             microsoft announces quarterly dividend  \n",
      "1  twitter microsoft made other attempts to buy l...  \n",
      "2  microsoft msft us schedules barclays global te...  \n",
      "3        can microsoft get back in the game with ai   \n",
      "4              microsoft hololens is coming to japan  \n"
     ]
    }
   ],
   "source": [
    "#news_df[\"Date\"] = news_df[\"Date/Time\"]\n",
    "\n",
    "news_df[\"Date\"] = pd.to_datetime(news_df[\"Date/Time\"])\n",
    "news_df[\"Date\"] = pd.DatetimeIndex(news_df[\"Date\"]).date\n",
    "\n",
    "news_df[\"Headline\"] = news_df[\"Headline\"].str.replace('http\\S+', ' ')\n",
    "news_df[\"Headline\"] = news_df[\"Headline\"].str.replace(' @SEEKINGALPHA_FS: ', ' ')\n",
    "news_df[\"Headline\"] = news_df[\"Headline\"].str.replace('\\W+', ' ')\n",
    "news_df[\"Headline\"] = news_df[\"Headline\"].str.replace('000', '')\n",
    "news_df[\"Headline\"] = news_df[\"Headline\"].str.replace('Corp', '')\n",
    "news_df[\"Headline\"] = news_df[\"Headline\"].str.replace('corp', '')\n",
    "news_df[\"Headline\"] = news_df[\"Headline\"].str.replace('   ', ' ')\n",
    "news_df[\"Headline\"] = news_df[\"Headline\"].str.replace('  ', ' ')\n",
    "\n",
    "news_df[\"text\"] = news_df[\"Headline\"].str.lower()\n",
    "print news_df.head()"
   ]
  },
  {
   "cell_type": "code",
   "execution_count": 11,
   "metadata": {
    "collapsed": false
   },
   "outputs": [
    {
     "data": {
      "text/html": [
       "<div>\n",
       "<table border=\"1\" class=\"dataframe\">\n",
       "  <thead>\n",
       "    <tr style=\"text-align: right;\">\n",
       "      <th></th>\n",
       "      <th>Class</th>\n",
       "    </tr>\n",
       "  </thead>\n",
       "  <tbody>\n",
       "    <tr>\n",
       "      <th>count</th>\n",
       "      <td>5132.0</td>\n",
       "    </tr>\n",
       "    <tr>\n",
       "      <th>mean</th>\n",
       "      <td>0.0</td>\n",
       "    </tr>\n",
       "    <tr>\n",
       "      <th>std</th>\n",
       "      <td>0.0</td>\n",
       "    </tr>\n",
       "    <tr>\n",
       "      <th>min</th>\n",
       "      <td>0.0</td>\n",
       "    </tr>\n",
       "    <tr>\n",
       "      <th>25%</th>\n",
       "      <td>0.0</td>\n",
       "    </tr>\n",
       "    <tr>\n",
       "      <th>50%</th>\n",
       "      <td>0.0</td>\n",
       "    </tr>\n",
       "    <tr>\n",
       "      <th>75%</th>\n",
       "      <td>0.0</td>\n",
       "    </tr>\n",
       "    <tr>\n",
       "      <th>max</th>\n",
       "      <td>0.0</td>\n",
       "    </tr>\n",
       "  </tbody>\n",
       "</table>\n",
       "</div>"
      ],
      "text/plain": [
       "        Class\n",
       "count  5132.0\n",
       "mean      0.0\n",
       "std       0.0\n",
       "min       0.0\n",
       "25%       0.0\n",
       "50%       0.0\n",
       "75%       0.0\n",
       "max       0.0"
      ]
     },
     "execution_count": 11,
     "metadata": {},
     "output_type": "execute_result"
    }
   ],
   "source": [
    "news_df.describe()"
   ]
  },
  {
   "cell_type": "code",
   "execution_count": 12,
   "metadata": {
    "collapsed": false
   },
   "outputs": [
    {
     "name": "stdout",
     "output_type": "stream",
     "text": [
      "range of post lengths: 94 - 2\n",
      "mean of post lengths: 12.999025721\n"
     ]
    },
    {
     "data": {
      "image/png": "[encoded data removed]",
      "text/plain": [
       "<matplotlib.figure.Figure at 0xc711d30>"
      ]
     },
     "metadata": {},
     "output_type": "display_data"
    }
   ],
   "source": [
    "#Break each posts into words and count the number of words\n",
    "lengths = news_df['text'].apply(lambda x: len(str(x).split(' ')))\n",
    "\n",
    "print 'range of post lengths:', np.max(lengths), '-', np.min(lengths)\n",
    "print 'mean of post lengths:', np.mean(lengths)\n",
    "\n",
    "fig, ax = plt.subplots(1, 1, figsize=(15, 6))\n",
    "\n",
    "#Histogram of the word counts in each post\n",
    "ax.hist(lengths, color='blue', bins=60, alpha=0.5)\n",
    "\n",
    "ax.set_xlabel('Number of Words in Headline')\n",
    "ax.set_ylabel('Number of Headline')\n",
    "ax.set_title('Histogram of Length of Headline')\n",
    "\n",
    "plt.show()"
   ]
  },
  {
   "cell_type": "code",
   "execution_count": 13,
   "metadata": {
    "collapsed": false
   },
   "outputs": [
    {
     "name": "stdout",
     "output_type": "stream",
     "text": [
      "0                  microsoft announces quarterly dividend\n",
      "1       twitter microsoft made other attempts to buy l...\n",
      "2       microsoft msft us schedules barclays global te...\n",
      "3             can microsoft get back in the game with ai \n",
      "4                   microsoft hololens is coming to japan\n",
      "5                streetaccount m a summary week of 21 nov\n",
      "6       twitter microsoft escalating emphasis on cloud...\n",
      "7       generali and microsoft announce a partnership ...\n",
      "8       simplilearn partners with microsoft india to t...\n",
      "9       twitter microsoft launches office 365 in 10 ne...\n",
      "10      twitter linkedin microsoft merger expected to ...\n",
      "11      eu expected to clear microsoft s acquisition o...\n",
      "12      the so called microsoft scam got this st peter...\n",
      "13      these are 3 reasons not to use microsoft s new...\n",
      "14      twitter msftnews at digigirlz event microsoft ...\n",
      "15      microsoft is looking to build quantum computer...\n",
      "16      macbook pro 2016 release date news update micr...\n",
      "17      twitter msftnews what every ceo should know ab...\n",
      "18      twitter microsoft reportedly presents european...\n",
      "19      vp inaugurates e platform of sheikh mohammed b...\n",
      "20      microsoft releases version 1610 of system cent...\n",
      "21      microsoft surface pro 5 news might run on andr...\n",
      "22      d link microsoft team up for 802 11af super wi...\n",
      "23      twitter benzinga salesforce don t call it a co...\n",
      "24      microsoft joins linux foundation tightening op...\n",
      "25      microsoft joins linux foundation to launch vis...\n",
      "26      microsoft previews sql server with linux suppo...\n",
      "27      microsoft reports modest progress on diversity...\n",
      "28      microsoft and linux team up what we could expe...\n",
      "29      microsoft joins the linux foundation as a plat...\n",
      "                              ...                        \n",
      "5105              microsoft estimates reduced at jpmorgan\n",
      "5106    corrected transcript microsoft msft barclays c...\n",
      "5107    hp and microsoft deliver global communications...\n",
      "5108    dj pressetext de microsoft macht spammer jagd ...\n",
      "5109    ge microsoft to launch joint venture aimed at ...\n",
      "5110    array networks application delivery controller...\n",
      "5111    visiblebrands chooses microsoft s windows azur...\n",
      "5112    netflix unveils new xbox 360 experience expand...\n",
      "5113    microsoft to give developers up to 80 of reven...\n",
      "5114    datacore software introduces monitoring pack t...\n",
      "5115    aspect unified ip crm connector updates integr...\n",
      "5116    dj pressetext de idc prognose windows 8 wird p...\n",
      "5117    corrected transcript microsoft msft us nasdaq ...\n",
      "5118    ais releases an industrial touch panel pc powe...\n",
      "5119     rogers and microsoft transform the tv experience\n",
      "5120    sanbolic melio is a key ingredient in intel es...\n",
      "5121    rodax software announces strategic moves for f...\n",
      "5122    avanade builds on microsoft dynamics ax leader...\n",
      "5123    idera named a microsoft managed partner in the...\n",
      "5124    gsc launches gurango hosted solutions for smes...\n",
      "5125              the future of tv begins now on xbox 360\n",
      "5126          sync the lg nitro hd with microsoft outlook\n",
      "5127    radiant technologies achieves microsoft dynami...\n",
      "5128    dj pressetext de fotodienst wochenr ckblick 28...\n",
      "5129    discover technologies hires key sales professi...\n",
      "5130    corrected transcript microsoft msft credit sui...\n",
      "5131    bing unveils magical holiday calendar featurin...\n",
      "5132    eye on earth enables cloud based environmental...\n",
      "5133    big bang llc announces beta release of the uni...\n",
      "5134    ownership updates microsoft corp com msft for ...\n",
      "Name: text, dtype: object\n",
      "data shape: (5132L, 7978L)\n",
      "some features: [u'00', u'005930', u'008', u'01', u'015', u'018', u'02', u'023', u'025', u'03']\n"
     ]
    }
   ],
   "source": [
    "from sklearn.feature_extraction.text import CountVectorizer\n",
    "from sklearn.preprocessing import LabelEncoder\n",
    "\n",
    "#Create a text vectorizer (turns text into array of numbers)\n",
    "#using a common list of English stop words\n",
    "vectorizer = CountVectorizer(stop_words='english', min_df=1)\n",
    "\n",
    "#Get all the text from data\n",
    "corpus = news_df['text'].str.lower()\n",
    "\n",
    "print corpus\n",
    "\n",
    "#Turn each text into an array of word counts\n",
    "x = vectorizer.fit_transform(corpus)\n",
    "x = x.toarray()\n",
    "\n",
    "#Get the names of all the words we're counting\n",
    "feature_names = vectorizer.get_feature_names()\n",
    "\n",
    "print 'data shape:', x.shape\n",
    "print 'some features:', feature_names[0:10]"
   ]
  },
  {
   "cell_type": "code",
   "execution_count": 14,
   "metadata": {
    "collapsed": false
   },
   "outputs": [
    {
     "name": "stdout",
     "output_type": "stream",
     "text": [
      "[(4054, u'microsoft'), (1214, u'msft'), (832, u'corp'), (593, u'emirates'), (469, u'windows'), (348, u'new'), (346, u'dir'), (328, u'news'), (310, u'cloud'), (305, u'united'), (304, u'announces'), (303, u'north'), (298, u'african'), (298, u'agency'), (297, u'arab'), (297, u'middle'), (296, u'east'), (296, u'newspapers'), (295, u'wam'), (273, u'twitter'), (237, u'earnings'), (224, u'2012'), (224, u'et'), (212, u'acquires'), (202, u'ownership'), (196, u'report'), (189, u'updates'), (185, u'files'), (182, u'end'), (172, u'period')]\n"
     ]
    }
   ],
   "source": [
    "#Number of top words\n",
    "n = 30\n",
    "\n",
    "#Count the number of time each word occurs in the entire dataset\n",
    "word_freq = x.sum(axis=0)\n",
    "\n",
    "#Sort the words by their total frequency in the dataset\n",
    "words = zip(word_freq, feature_names)\n",
    "top_words = (sorted(words, key=lambda t: t[0], reverse=True))[:n]\n",
    "\n",
    "#Print the top n words and their frequencies\n",
    "print top_words"
   ]
  },
  {
   "cell_type": "code",
   "execution_count": 15,
   "metadata": {
    "collapsed": false
   },
   "outputs": [
    {
     "data": {
      "image/png": "[encoded data removed]",
      "text/plain": [
       "<matplotlib.figure.Figure at 0xc8622e8>"
      ]
     },
     "metadata": {},
     "output_type": "display_data"
    }
   ],
   "source": [
    "fig, ax = plt.subplots(1, 1, figsize=(15, 6))\n",
    "\n",
    "#Number of bars to use\n",
    "indices = np.arange(n)\n",
    "#Where to put the label under each bar\n",
    "width = 0.5\n",
    "#Bar plot of the frequencies of the top words\n",
    "ax.bar(indices, [word[0] for word in top_words], color='blue', alpha=0.5)\n",
    "\n",
    "ax.set_ylabel('Frequency')\n",
    "ax.set_title('Top ' + str(n) + ' Words')\n",
    "\n",
    "#Label the bars with the top words\n",
    "ax.set_xticks(indices + width)\n",
    "ax.set_xticklabels([word[1] for word in top_words])\n",
    "\n",
    "#Turn the labels sideways so they don't overlap\n",
    "labels = ax.get_xticklabels()\n",
    "plt.setp(labels, rotation=30, fontsize=10)\n",
    "\n",
    "plt.show()"
   ]
  },
  {
   "cell_type": "code",
   "execution_count": 16,
   "metadata": {
    "collapsed": false
   },
   "outputs": [
    {
     "data": {
      "text/plain": [
       "0     True\n",
       "1    False\n",
       "2    False\n",
       "3    False\n",
       "4    False\n",
       "Name: Headline, dtype: bool"
      ]
     },
     "execution_count": 16,
     "metadata": {},
     "output_type": "execute_result"
    }
   ],
   "source": [
    "news_df['Headline'].str.contains('dividend').head()"
   ]
  },
  {
   "cell_type": "code",
   "execution_count": 17,
   "metadata": {
    "collapsed": false
   },
   "outputs": [
    {
     "name": "stderr",
     "output_type": "stream",
     "text": [
      "C:\\Users\\dsinha4\\AppData\\Local\\Continuum\\Anaconda2\\lib\\site-packages\\pandas\\core\\indexing.py:132: SettingWithCopyWarning: \n",
      "A value is trying to be set on a copy of a slice from a DataFrame\n",
      "\n",
      "See the caveats in the documentation: http://pandas.pydata.org/pandas-docs/stable/indexing.html#indexing-view-versus-copy\n",
      "  self._setitem_with_indexer(indexer, value)\n"
     ]
    },
    {
     "data": {
      "text/plain": [
       "Class\n",
       "-1     366\n",
       " 0    4050\n",
       " 1     716\n",
       "Name: text, dtype: int64"
      ]
     },
     "execution_count": 17,
     "metadata": {},
     "output_type": "execute_result"
    }
   ],
   "source": [
    "## positive news tags\n",
    "news_df[\"Class\"].ix[(news_df['text'].str.contains('microsoft',na=False) & news_df['text'].str.contains('upgrade',na=False)) ] = 1\n",
    "news_df[\"Class\"].ix[(news_df['text'].str.contains('microsoft',na=False) & news_df['text'].str.contains('partnership',na=False)) ] = 1\n",
    "news_df[\"Class\"].ix[(news_df['text'].str.contains('microsoft',na=False) & news_df['text'].str.contains('buy',na=False)) ] = 1\n",
    "news_df[\"Class\"].ix[(news_df['text'].str.contains('microsoft',na=False) & news_df['text'].str.contains('to buy',na=False)) ] = 1\n",
    "news_df[\"Class\"].ix[(news_df['text'].str.contains('microsoft',na=False) & news_df['text'].str.contains('acquisition',na=False)) ] = 1\n",
    "news_df[\"Class\"].ix[(news_df['text'].str.contains('microsoft',na=False) & news_df['text'].str.contains('launch',na=False)) ] = 1\n",
    "news_df[\"Class\"].ix[(news_df['text'].str.contains('microsoft',na=False) & news_df['text'].str.contains('adds',na=False)) ] = 1\n",
    "\n",
    "news_df[\"Class\"].ix[(news_df['text'].str.contains('microsoft',na=False) & news_df['text'].str.contains('unveil',na=False)) ] = 1\n",
    "news_df[\"Class\"].ix[(news_df['text'].str.contains('microsoft',na=False) & news_df['text'].str.contains('ramp',na=False)) ] = 1\n",
    "news_df[\"Class\"].ix[(news_df['text'].str.contains('microsoft',na=False) & news_df['text'].str.contains('soars',na=False)) ] = 1\n",
    "news_df[\"Class\"].ix[(news_df['text'].str.contains('microsoft',na=False) & news_df['text'].str.contains('expands',na=False)) ] = 1\n",
    "news_df[\"Class\"].ix[(news_df['text'].str.contains('microsoft',na=False) & news_df['text'].str.contains('rolls out',na=False)) ] = 1\n",
    "news_df[\"Class\"].ix[(news_df['text'].str.contains('microsoft',na=False) & news_df['text'].str.contains('surpass',na=False)) ] = 1\n",
    "\n",
    "news_df[\"Class\"].ix[(news_df['text'].str.contains('microsoft',na=False) & news_df['text'].str.contains('jumps',na=False)) ] = 1\n",
    "news_df[\"Class\"].ix[(news_df['text'].str.contains('microsoft',na=False) & news_df['text'].str.contains('dividend',na=False)) ] = 1\n",
    "news_df[\"Class\"].ix[(news_df['text'].str.contains('microsoft',na=False) & news_df['text'].str.contains('hit record',na=False)) ] = 1\n",
    "news_df[\"Class\"].ix[(news_df['text'].str.contains('microsoft',na=False) & news_df['text'].str.contains('boost',na=False)) ] = 1\n",
    "news_df[\"Class\"].ix[(news_df['text'].str.contains('microsoft',na=False) & news_df['text'].str.contains('strong',na=False)) ] = 1\n",
    "news_df[\"Class\"].ix[(news_df['text'].str.contains('microsoft',na=False) & news_df['text'].str.contains('increase',na=False)) ] = 1\n",
    "news_df[\"Class\"].ix[(news_df['text'].str.contains('microsoft',na=False) & news_df['text'].str.contains('acquire',na=False)) ] = 1\n",
    "news_df[\"Class\"].ix[(news_df['text'].str.contains('microsoft',na=False) & news_df['text'].str.contains('acquiring',na=False)) ] = 1\n",
    "news_df[\"Class\"].ix[(news_df['text'].str.contains('microsoft',na=False) & news_df['text'].str.contains('positiv',na=False)) ] = 1\n",
    "\n",
    "\n",
    "## negative news tags\n",
    "news_df[\"Class\"].ix[(news_df['text'].str.contains('microsoft',na=False) & news_df['text'].str.contains('downgrade',na=False)) ] = -1\n",
    "news_df[\"Class\"].ix[(news_df['text'].str.contains('microsoft',na=False) & news_df['text'].str.contains('sells',na=False)) ] = -1\n",
    "news_df[\"Class\"].ix[(news_df['text'].str.contains('microsoft',na=False) & news_df['text'].str.contains('Microsoft scam',na=False)) ] = -1\n",
    "news_df[\"Class\"].ix[(news_df['text'].str.contains('microsoft',na=False) & news_df['text'].str.contains('take on Microsoft',na=False)) ] = -1\n",
    "news_df[\"Class\"].ix[(news_df['text'].str.contains('microsoft',na=False) & news_df['text'].str.contains('battle',na=False)) ] = -1\n",
    "news_df[\"Class\"].ix[(news_df['text'].str.contains('microsoft',na=False) & news_df['text'].str.contains('disposes',na=False)) ] = -1\n",
    "\n",
    "news_df[\"Class\"].ix[(news_df['text'].str.contains('microsoft',na=False) & news_df['text'].str.contains('face complication',na=False)) ] = -1\n",
    "news_df[\"Class\"].ix[(news_df['text'].str.contains('microsoft',na=False) & news_df['text'].str.contains('cuts',na=False)) ] = -1\n",
    "news_df[\"Class\"].ix[(news_df['text'].str.contains('microsoft',na=False) & news_df['text'].str.contains('late',na=False)) ] = -1\n",
    "news_df[\"Class\"].ix[(news_df['text'].str.contains('microsoft',na=False) & news_df['text'].str.contains('fired',na=False)) ] = -1\n",
    "news_df[\"Class\"].ix[(news_df['text'].str.contains('microsoft',na=False) & news_df['text'].str.contains('late',na=False)) ] = -1\n",
    "\n",
    "news_df[\"Class\"].ix[(news_df['text'].str.contains('microsoft',na=False) & news_df['text'].str.contains('to sell',na=False)) ] = -1\n",
    "news_df[\"Class\"].ix[(news_df['text'].str.contains('microsoft',na=False) & news_df['text'].str.contains('ripped off',na=False)) ] = -1\n",
    "news_df[\"Class\"].ix[(news_df['text'].str.contains('microsoft',na=False) & news_df['text'].str.contains('estimates reduce',na=False)) ] = -1\n",
    "news_df[\"Class\"].ix[(news_df['text'].str.contains('microsoft',na=False) & news_df['text'].str.contains('estimates lower',na=False)) ] = -1\n",
    "news_df[\"Class\"].ix[(news_df['text'].str.contains('microsoft',na=False) & news_df['text'].str.contains('layoffs',na=False)) ] = -1\n",
    "news_df[\"Class\"].ix[(news_df['text'].str.contains('microsoft',na=False) & news_df['text'].str.contains('plans to cut',na=False)) ] = -1\n",
    "news_df[\"Class\"].ix[(news_df['text'].str.contains('microsoft',na=False) & news_df['text'].str.contains('fine',na=False)) ] = -1\n",
    "news_df[\"Class\"].ix[(news_df['text'].str.contains('microsoft',na=False) & news_df['text'].str.contains('loses',na=False)) ] = -1\n",
    "news_df[\"Class\"].ix[(news_df['text'].str.contains('microsoft',na=False) & news_df['text'].str.contains('target decreased',na=False)) ] = -1\n",
    "news_df[\"Class\"].ix[(news_df['text'].str.contains('microsoft',na=False) & news_df['text'].str.contains('beating microsoft',na=False)) ] = -1\n",
    "news_df[\"Class\"].ix[(news_df['text'].str.contains('microsoft',na=False) & news_df['text'].str.contains('to close',na=False)) ] = -1\n",
    "news_df[\"Class\"].ix[(news_df['text'].str.contains('microsoft',na=False) & news_df['text'].str.contains('scam',na=False)) ] = -1\n",
    "\n",
    "news_df[\"Class\"].ix[(news_df['text'].str.contains('microsoft',na=False) & news_df['text'].str.contains('drop',na=False)) ] = -1\n",
    "news_df[\"Class\"].ix[(news_df['text'].str.contains('microsoft',na=False) & news_df['text'].str.contains('cancelled',na=False)) ] = -1\n",
    "news_df[\"Class\"].ix[(news_df['text'].str.contains('microsoft',na=False) & news_df['text'].str.contains('decline',na=False)) ] = -1\n",
    "\n",
    "news_df.groupby(['Class'])['text'].count()"
   ]
  },
  {
   "cell_type": "code",
   "execution_count": 18,
   "metadata": {
    "collapsed": false
   },
   "outputs": [],
   "source": [
    "#Encode the class labels (Neg, Pos) as numbers\n",
    "y = news_df['Class'].values\n",
    "#x = news_df[0:5].values"
   ]
  },
  {
   "cell_type": "code",
   "execution_count": 19,
   "metadata": {
    "collapsed": false
   },
   "outputs": [
    {
     "name": "stdout",
     "output_type": "stream",
     "text": [
      "number of negative news: 366\n",
      "number of positive news: 716\n",
      "number of neutral news: 4050\n"
     ]
    }
   ],
   "source": [
    "#Print the number of comments in each class\n",
    "print 'number of negative news:', len(y[y == -1])\n",
    "print 'number of positive news:', len(y[y == 1])\n",
    "print 'number of neutral news:', len(y[y == 0])"
   ]
  },
  {
   "cell_type": "code",
   "execution_count": 20,
   "metadata": {
    "collapsed": false
   },
   "outputs": [
    {
     "data": {
      "image/png": "[encoded data removed]",
      "text/plain": [
       "<matplotlib.figure.Figure at 0xdf36518>"
      ]
     },
     "metadata": {},
     "output_type": "display_data"
    }
   ],
   "source": [
    "fig, ax = plt.subplots(2, 1, figsize=(15, 12))\n",
    "\n",
    "#Number of bars to use\n",
    "indices = np.arange(n)\n",
    "#Where to put the label under each bar\n",
    "width = 0.5\n",
    "\n",
    "#Count the number of time each word occurs in the positive posts\n",
    "word_freq = x[y == 1].sum(axis=0)\n",
    "\n",
    "#Sort the words by their total frequency in the dataset\n",
    "words = zip(word_freq, feature_names)\n",
    "top_words = (sorted(words, key=lambda t: t[0], reverse=True))[:n]\n",
    "\n",
    "#Bar plot of the frequencies of the top words\n",
    "ax[0].bar(indices, [word[0] for word in top_words], color='blue', alpha=0.5)\n",
    "\n",
    "ax[0].set_ylabel('Frequency')\n",
    "ax[0].set_title('Top ' + str(n) + ' Words in Positive News')\n",
    "\n",
    "#Label the bars with the top words\n",
    "ax[0].set_xticks(indices + width)\n",
    "ax[0].set_xticklabels([word[1] for word in top_words])\n",
    "\n",
    "#Turn the labels sideways so they don't overlap\n",
    "labels = ax[0].get_xticklabels()\n",
    "plt.setp(labels, rotation=30, fontsize=10)\n",
    "\n",
    "#Count the number of time each word occurs in the negative posts\n",
    "word_freq = x[y < 0].sum(axis=0)\n",
    "\n",
    "#Sort the words by their total frequency in the dataset\n",
    "words = zip(word_freq, feature_names)\n",
    "top_words = (sorted(words, key=lambda t: t[0], reverse=True))[:n]\n",
    "\n",
    "#Bar plot of the frequencies of the top words\n",
    "ax[1].bar(indices, [word[0] for word in top_words], color='red', alpha=0.5)\n",
    "\n",
    "ax[1].set_ylabel('Frequency')\n",
    "ax[1].set_title('Top ' + str(n) + ' Words in Negative News')\n",
    "\n",
    "#Label the bars with the top words\n",
    "ax[1].set_xticks(indices + width)\n",
    "ax[1].set_xticklabels([word[1] for word in top_words])\n",
    "\n",
    "#Turn the labels sideways so they don't overlap\n",
    "labels = ax[1].get_xticklabels()\n",
    "plt.setp(labels, rotation=30, fontsize=10)\n",
    "\n",
    "plt.show()"
   ]
  },
  {
   "cell_type": "code",
   "execution_count": 21,
   "metadata": {
    "collapsed": false
   },
   "outputs": [
    {
     "name": "stdout",
     "output_type": "stream",
     "text": [
      "Accuracy on overall test set: 0.966411314084\n",
      "Accuracy on class -1 in test set: 0.839694656489\n",
      "Accuracy on class 1 in test set: 0.886639676113\n"
     ]
    }
   ],
   "source": [
    "# Train/test split\n",
    "n_samples = len(x)\n",
    "train_indices = np.random.uniform(size=n_samples) > 1. / 3.  #Select two thirds for train\n",
    "\n",
    "x_train = x[train_indices]\n",
    "y_train = y[train_indices]\n",
    "\n",
    "x_test = x[~train_indices]\n",
    "y_test = y[~train_indices]\n",
    "\n",
    "#Generate array of L2 regularization parameters\n",
    "regularization = 10.**np.arange(-10, 5)\n",
    "\n",
    "#Fit logistic model with cross validation to select the optimal regularization parameter\n",
    "logistic = LogRegCV(cv=3, \n",
    "                    penalty='l2', \n",
    "                    Cs=regularization, \n",
    "                    solver='liblinear', \n",
    "                    n_jobs=2)\n",
    "logistic.fit(x_train, y_train)\n",
    "\n",
    "#Print results\n",
    "print 'Accuracy on overall test set:', logistic.score(x_test, y_test)\n",
    "print 'Accuracy on class -1 in test set:', logistic.score(x_test[y_test == -1], y_test[y_test == -1])\n",
    "print 'Accuracy on class 1 in test set:', logistic.score(x_test[y_test == 1], y_test[y_test == 1])"
   ]
  },
  {
   "cell_type": "markdown",
   "metadata": {},
   "source": [
    "Above accuracy is pretty good, and it looks like we do equally well on predicting negative news and predicting positive news. \n",
    "\n",
    "Verify what happens when we remove words that occur with high frequency in each post: that is we set a threshhold, `max_df`, and remove words from posts that occur more that `max_df` number of times. We will try around with a couple of choices for `max_df` and see if it improves our prediction."
   ]
  },
  {
   "cell_type": "code",
   "execution_count": 22,
   "metadata": {
    "collapsed": true
   },
   "outputs": [],
   "source": [
    "#This function computes the accuracy of logistic regression given cut-offs, min_df, max_df\n",
    "def vectorize_classify(min_df, max_df, trials, x, y):\n",
    "    #Create a text vectorizer, removing words with frequency less than min_df or\n",
    "    #greater than max_df\n",
    "    vectorizer = CountVectorizer(stop_words='english', min_df=min_df, max_df=max_df)\n",
    "    #Transform our text into arrays of numbers\n",
    "    corpus = news_df['text'].values\n",
    "    x = vectorizer.fit_transform(corpus)\n",
    "    x = x.toarray()\n",
    "    \n",
    "    #Record overall accuracy rate, accuracy on class 1 and class 0\n",
    "    overall_acc = []\n",
    "    class_1_acc = []\n",
    "    class_0_acc = []\n",
    "    \n",
    "    \n",
    "    n_samples = len(x)\n",
    "    \n",
    "    #Perform logistic regression on a handful of train/test splits\n",
    "    for i in range(trials):\n",
    "        #Print progress\n",
    "        sys.stdout.write(\"\\r{0}% completed\".format((float(i + 1)/trials)*100))\n",
    "        sys.stdout.flush()\n",
    "        \n",
    "        # Train/test split\n",
    "        train_indices = np.random.uniform(size=n_samples) > 1. / 3.  #Select two thirds for train\n",
    "\n",
    "        x_train = x[train_indices]\n",
    "        y_train = y[train_indices]\n",
    "\n",
    "        x_test = x[~train_indices]\n",
    "        y_test = y[~train_indices]\n",
    "\n",
    "        #Generate array of L2 regularization parameters\n",
    "        regularization = 10. ** np.arange(-10, 5)\n",
    "\n",
    "        #Fit logistic model\n",
    "        logistic = LogRegCV(cv=5, \n",
    "                            penalty='l2', \n",
    "                            Cs=regularization, \n",
    "                            solver='liblinear', \n",
    "                            n_jobs=2)\n",
    "        logistic.fit(x_train, y_train)\n",
    "        \n",
    "        overall_acc.append(logistic.score(x_test, y_test))\n",
    "        class_0_acc.append(logistic.score(x_test[y_test == -1], y_test[y_test == -1]))\n",
    "        class_1_acc.append(logistic.score(x_test[y_test == 1], y_test[y_test == 1]))\n",
    "\n",
    "    return (np.mean(overall_acc), \n",
    "            np.mean(class_0_acc),\n",
    "            np.mean(class_1_acc))"
   ]
  },
  {
   "cell_type": "code",
   "execution_count": 23,
   "metadata": {
    "collapsed": false
   },
   "outputs": [
    {
     "name": "stdout",
     "output_type": "stream",
     "text": [
      "100.0% completed\n",
      "Min frequency, max frequency: 1 , 6000\n",
      "Accuracy on overall test set: 0.966138846647\n",
      "Accuracy on class -1 in test set: 0.827617968938\n",
      "Accuracy on class 1 in test set: 0.895864467495\n"
     ]
    }
   ],
   "source": [
    "min_df = 1\n",
    "max_df = 6000\n",
    "trials = 10\n",
    "overall, class_0, class_1 = vectorize_classify(min_df, max_df, trials, x, y)\n",
    "print '\\nMin frequency, max frequency:', min_df, ',', max_df\n",
    "print 'Accuracy on overall test set:', overall\n",
    "print 'Accuracy on class -1 in test set:', class_0\n",
    "print 'Accuracy on class 1 in test set:', class_1"
   ]
  },
  {
   "cell_type": "code",
   "execution_count": 24,
   "metadata": {
    "collapsed": false
   },
   "outputs": [
    {
     "name": "stdout",
     "output_type": "stream",
     "text": [
      "100.0% completed\n",
      "Min frequency, max frequency: 1 , 100\n",
      "Accuracy on overall test set: 0.922723335076\n",
      "Accuracy on class -1 in test set: 0.749597003462\n",
      "Accuracy on class 1 in test set: 0.71894052109\n"
     ]
    }
   ],
   "source": [
    "min_df = 1\n",
    "max_df = 100\n",
    "trials = 10\n",
    "overall, class_0, class_1 = vectorize_classify(min_df, max_df, trials, x, y)\n",
    "print '\\nMin frequency, max frequency:', min_df, ',', max_df\n",
    "print 'Accuracy on overall test set:', overall\n",
    "print 'Accuracy on class -1 in test set:', class_0\n",
    "print 'Accuracy on class 1 in test set:', class_1"
   ]
  },
  {
   "cell_type": "markdown",
   "metadata": {},
   "source": [
    "Setting max_df to be 100 impacts the accuracy. Using max_df of 6000 gives the best accuracy\n"
   ]
  },
  {
   "cell_type": "code",
   "execution_count": 33,
   "metadata": {
    "collapsed": true
   },
   "outputs": [],
   "source": [
    "## Write the output to a csv file\n",
    "header = [\"Date\", \"Class\"]\n",
    "news_df.to_csv('datasets/msft_news.csv', columns = header)"
   ]
  },
  {
   "cell_type": "code",
   "execution_count": 26,
   "metadata": {
    "collapsed": false
   },
   "outputs": [
    {
     "data": {
      "text/plain": [
       "<matplotlib.axes._subplots.AxesSubplot at 0xc711f28>"
      ]
     },
     "execution_count": 26,
     "metadata": {},
     "output_type": "execute_result"
    },
    {
     "data": {
      "image/png": "[encoded data removed]",
      "text/plain": [
       "<matplotlib.figure.Figure at 0xe4c8b38>"
      ]
     },
     "metadata": {},
     "output_type": "display_data"
    }
   ],
   "source": [
    "## plot the class\n",
    "df = news_df\n",
    "df['Class'].plot(figsize=(8, 8))\n"
   ]
  },
  {
   "cell_type": "code",
   "execution_count": 27,
   "metadata": {
    "collapsed": false
   },
   "outputs": [
    {
     "data": {
      "text/html": [
       "<div>\n",
       "<table border=\"1\" class=\"dataframe\">\n",
       "  <thead>\n",
       "    <tr style=\"text-align: right;\">\n",
       "      <th></th>\n",
       "      <th>Open</th>\n",
       "      <th>High</th>\n",
       "      <th>Low</th>\n",
       "      <th>Close</th>\n",
       "      <th>Volume</th>\n",
       "      <th>Adj Close</th>\n",
       "    </tr>\n",
       "    <tr>\n",
       "      <th>Date</th>\n",
       "      <th></th>\n",
       "      <th></th>\n",
       "      <th></th>\n",
       "      <th></th>\n",
       "      <th></th>\n",
       "      <th></th>\n",
       "    </tr>\n",
       "  </thead>\n",
       "  <tbody>\n",
       "    <tr>\n",
       "      <th>2011-01-03</th>\n",
       "      <td>28.049999</td>\n",
       "      <td>28.18</td>\n",
       "      <td>27.920000</td>\n",
       "      <td>27.98</td>\n",
       "      <td>53443800</td>\n",
       "      <td>23.727305</td>\n",
       "    </tr>\n",
       "    <tr>\n",
       "      <th>2011-01-04</th>\n",
       "      <td>27.940001</td>\n",
       "      <td>28.17</td>\n",
       "      <td>27.850000</td>\n",
       "      <td>28.09</td>\n",
       "      <td>54405600</td>\n",
       "      <td>23.820586</td>\n",
       "    </tr>\n",
       "    <tr>\n",
       "      <th>2011-01-05</th>\n",
       "      <td>27.900000</td>\n",
       "      <td>28.01</td>\n",
       "      <td>27.770000</td>\n",
       "      <td>28.00</td>\n",
       "      <td>58998700</td>\n",
       "      <td>23.744265</td>\n",
       "    </tr>\n",
       "    <tr>\n",
       "      <th>2011-01-06</th>\n",
       "      <td>28.040001</td>\n",
       "      <td>28.85</td>\n",
       "      <td>27.860001</td>\n",
       "      <td>28.82</td>\n",
       "      <td>88026300</td>\n",
       "      <td>24.439633</td>\n",
       "    </tr>\n",
       "    <tr>\n",
       "      <th>2011-01-07</th>\n",
       "      <td>28.639999</td>\n",
       "      <td>28.74</td>\n",
       "      <td>28.250000</td>\n",
       "      <td>28.60</td>\n",
       "      <td>73762000</td>\n",
       "      <td>24.253071</td>\n",
       "    </tr>\n",
       "  </tbody>\n",
       "</table>\n",
       "</div>"
      ],
      "text/plain": [
       "                 Open   High        Low  Close    Volume  Adj Close\n",
       "Date                                                               \n",
       "2011-01-03  28.049999  28.18  27.920000  27.98  53443800  23.727305\n",
       "2011-01-04  27.940001  28.17  27.850000  28.09  54405600  23.820586\n",
       "2011-01-05  27.900000  28.01  27.770000  28.00  58998700  23.744265\n",
       "2011-01-06  28.040001  28.85  27.860001  28.82  88026300  24.439633\n",
       "2011-01-07  28.639999  28.74  28.250000  28.60  73762000  24.253071"
      ]
     },
     "execution_count": 27,
     "metadata": {},
     "output_type": "execute_result"
    }
   ],
   "source": [
    "## Add Date column\n",
    "#ms[\"Date\"] = ms.index\n",
    "ms.head()"
   ]
  },
  {
   "cell_type": "code",
   "execution_count": 28,
   "metadata": {
    "collapsed": false
   },
   "outputs": [
    {
     "data": {
      "text/html": [
       "<div>\n",
       "<table border=\"1\" class=\"dataframe\">\n",
       "  <thead>\n",
       "    <tr style=\"text-align: right;\">\n",
       "      <th></th>\n",
       "      <th>Class</th>\n",
       "      <th>Date</th>\n",
       "    </tr>\n",
       "    <tr>\n",
       "      <th>Date</th>\n",
       "      <th></th>\n",
       "      <th></th>\n",
       "    </tr>\n",
       "  </thead>\n",
       "  <tbody>\n",
       "    <tr>\n",
       "      <th>2016-11-30</th>\n",
       "      <td>1</td>\n",
       "      <td>2016-11-30</td>\n",
       "    </tr>\n",
       "    <tr>\n",
       "      <th>2016-11-30</th>\n",
       "      <td>1</td>\n",
       "      <td>2016-11-30</td>\n",
       "    </tr>\n",
       "    <tr>\n",
       "      <th>2016-11-29</th>\n",
       "      <td>0</td>\n",
       "      <td>2016-11-29</td>\n",
       "    </tr>\n",
       "    <tr>\n",
       "      <th>2016-11-29</th>\n",
       "      <td>0</td>\n",
       "      <td>2016-11-29</td>\n",
       "    </tr>\n",
       "    <tr>\n",
       "      <th>2016-11-28</th>\n",
       "      <td>0</td>\n",
       "      <td>2016-11-28</td>\n",
       "    </tr>\n",
       "  </tbody>\n",
       "</table>\n",
       "</div>"
      ],
      "text/plain": [
       "            Class        Date\n",
       "Date                         \n",
       "2016-11-30      1  2016-11-30\n",
       "2016-11-30      1  2016-11-30\n",
       "2016-11-29      0  2016-11-29\n",
       "2016-11-29      0  2016-11-29\n",
       "2016-11-28      0  2016-11-28"
      ]
     },
     "execution_count": 28,
     "metadata": {},
     "output_type": "execute_result"
    }
   ],
   "source": [
    "# Select relevant columns from the data frame to merge with stock price\n",
    "df = news_df.ix[:, 'Class':'Date']\n",
    "\n",
    "df.index = df.Date\n",
    "df.head()"
   ]
  },
  {
   "cell_type": "code",
   "execution_count": 29,
   "metadata": {
    "collapsed": false
   },
   "outputs": [
    {
     "data": {
      "text/html": [
       "<div>\n",
       "<table border=\"1\" class=\"dataframe\">\n",
       "  <thead>\n",
       "    <tr style=\"text-align: right;\">\n",
       "      <th></th>\n",
       "      <th>Open</th>\n",
       "      <th>High</th>\n",
       "      <th>Low</th>\n",
       "      <th>Close</th>\n",
       "      <th>Volume</th>\n",
       "      <th>Adj Close</th>\n",
       "      <th>Class</th>\n",
       "      <th>Date</th>\n",
       "    </tr>\n",
       "  </thead>\n",
       "  <tbody>\n",
       "    <tr>\n",
       "      <th>2011-01-03</th>\n",
       "      <td>28.049999</td>\n",
       "      <td>28.18</td>\n",
       "      <td>27.920000</td>\n",
       "      <td>27.98</td>\n",
       "      <td>53443800</td>\n",
       "      <td>23.727305</td>\n",
       "      <td>NaN</td>\n",
       "      <td>NaN</td>\n",
       "    </tr>\n",
       "    <tr>\n",
       "      <th>2011-01-04</th>\n",
       "      <td>27.940001</td>\n",
       "      <td>28.17</td>\n",
       "      <td>27.850000</td>\n",
       "      <td>28.09</td>\n",
       "      <td>54405600</td>\n",
       "      <td>23.820586</td>\n",
       "      <td>NaN</td>\n",
       "      <td>NaN</td>\n",
       "    </tr>\n",
       "    <tr>\n",
       "      <th>2011-01-05</th>\n",
       "      <td>27.900000</td>\n",
       "      <td>28.01</td>\n",
       "      <td>27.770000</td>\n",
       "      <td>28.00</td>\n",
       "      <td>58998700</td>\n",
       "      <td>23.744265</td>\n",
       "      <td>NaN</td>\n",
       "      <td>NaN</td>\n",
       "    </tr>\n",
       "    <tr>\n",
       "      <th>2011-01-06</th>\n",
       "      <td>28.040001</td>\n",
       "      <td>28.85</td>\n",
       "      <td>27.860001</td>\n",
       "      <td>28.82</td>\n",
       "      <td>88026300</td>\n",
       "      <td>24.439633</td>\n",
       "      <td>NaN</td>\n",
       "      <td>NaN</td>\n",
       "    </tr>\n",
       "    <tr>\n",
       "      <th>2011-01-07</th>\n",
       "      <td>28.639999</td>\n",
       "      <td>28.74</td>\n",
       "      <td>28.250000</td>\n",
       "      <td>28.60</td>\n",
       "      <td>73762000</td>\n",
       "      <td>24.253071</td>\n",
       "      <td>NaN</td>\n",
       "      <td>NaN</td>\n",
       "    </tr>\n",
       "  </tbody>\n",
       "</table>\n",
       "</div>"
      ],
      "text/plain": [
       "                 Open   High        Low  Close    Volume  Adj Close  Class  \\\n",
       "2011-01-03  28.049999  28.18  27.920000  27.98  53443800  23.727305    NaN   \n",
       "2011-01-04  27.940001  28.17  27.850000  28.09  54405600  23.820586    NaN   \n",
       "2011-01-05  27.900000  28.01  27.770000  28.00  58998700  23.744265    NaN   \n",
       "2011-01-06  28.040001  28.85  27.860001  28.82  88026300  24.439633    NaN   \n",
       "2011-01-07  28.639999  28.74  28.250000  28.60  73762000  24.253071    NaN   \n",
       "\n",
       "           Date  \n",
       "2011-01-03  NaN  \n",
       "2011-01-04  NaN  \n",
       "2011-01-05  NaN  \n",
       "2011-01-06  NaN  \n",
       "2011-01-07  NaN  "
      ]
     },
     "execution_count": 29,
     "metadata": {},
     "output_type": "execute_result"
    }
   ],
   "source": [
    "msft = ms.join(df, rsuffix='_y')\n",
    "msft.head()"
   ]
  },
  {
   "cell_type": "code",
   "execution_count": 30,
   "metadata": {
    "collapsed": false
   },
   "outputs": [
    {
     "data": {
      "text/html": [
       "<div>\n",
       "<table border=\"1\" class=\"dataframe\">\n",
       "  <thead>\n",
       "    <tr style=\"text-align: right;\">\n",
       "      <th></th>\n",
       "      <th>Open</th>\n",
       "      <th>High</th>\n",
       "      <th>Low</th>\n",
       "      <th>Close</th>\n",
       "      <th>Volume</th>\n",
       "      <th>Adj Close</th>\n",
       "      <th>Class</th>\n",
       "      <th>Date</th>\n",
       "    </tr>\n",
       "  </thead>\n",
       "  <tbody>\n",
       "    <tr>\n",
       "      <th>2016-11-28</th>\n",
       "      <td>60.340000</td>\n",
       "      <td>61.02</td>\n",
       "      <td>60.209999</td>\n",
       "      <td>60.610001</td>\n",
       "      <td>20603800</td>\n",
       "      <td>60.610001</td>\n",
       "      <td>0.0</td>\n",
       "      <td>2016-11-28</td>\n",
       "    </tr>\n",
       "    <tr>\n",
       "      <th>2016-11-29</th>\n",
       "      <td>60.650002</td>\n",
       "      <td>61.41</td>\n",
       "      <td>60.520000</td>\n",
       "      <td>61.090000</td>\n",
       "      <td>22010800</td>\n",
       "      <td>61.090000</td>\n",
       "      <td>0.0</td>\n",
       "      <td>2016-11-29</td>\n",
       "    </tr>\n",
       "    <tr>\n",
       "      <th>2016-11-29</th>\n",
       "      <td>60.650002</td>\n",
       "      <td>61.41</td>\n",
       "      <td>60.520000</td>\n",
       "      <td>61.090000</td>\n",
       "      <td>22010800</td>\n",
       "      <td>61.090000</td>\n",
       "      <td>0.0</td>\n",
       "      <td>2016-11-29</td>\n",
       "    </tr>\n",
       "    <tr>\n",
       "      <th>2016-11-30</th>\n",
       "      <td>60.860001</td>\n",
       "      <td>61.18</td>\n",
       "      <td>60.220001</td>\n",
       "      <td>60.259998</td>\n",
       "      <td>33783900</td>\n",
       "      <td>60.259998</td>\n",
       "      <td>1.0</td>\n",
       "      <td>2016-11-30</td>\n",
       "    </tr>\n",
       "    <tr>\n",
       "      <th>2016-11-30</th>\n",
       "      <td>60.860001</td>\n",
       "      <td>61.18</td>\n",
       "      <td>60.220001</td>\n",
       "      <td>60.259998</td>\n",
       "      <td>33783900</td>\n",
       "      <td>60.259998</td>\n",
       "      <td>1.0</td>\n",
       "      <td>2016-11-30</td>\n",
       "    </tr>\n",
       "  </tbody>\n",
       "</table>\n",
       "</div>"
      ],
      "text/plain": [
       "                 Open   High        Low      Close    Volume  Adj Close  \\\n",
       "2016-11-28  60.340000  61.02  60.209999  60.610001  20603800  60.610001   \n",
       "2016-11-29  60.650002  61.41  60.520000  61.090000  22010800  61.090000   \n",
       "2016-11-29  60.650002  61.41  60.520000  61.090000  22010800  61.090000   \n",
       "2016-11-30  60.860001  61.18  60.220001  60.259998  33783900  60.259998   \n",
       "2016-11-30  60.860001  61.18  60.220001  60.259998  33783900  60.259998   \n",
       "\n",
       "            Class        Date  \n",
       "2016-11-28    0.0  2016-11-28  \n",
       "2016-11-29    0.0  2016-11-29  \n",
       "2016-11-29    0.0  2016-11-29  \n",
       "2016-11-30    1.0  2016-11-30  \n",
       "2016-11-30    1.0  2016-11-30  "
      ]
     },
     "execution_count": 30,
     "metadata": {},
     "output_type": "execute_result"
    }
   ],
   "source": [
    "msft.tail()"
   ]
  },
  {
   "cell_type": "code",
   "execution_count": 36,
   "metadata": {
    "collapsed": false
   },
   "outputs": [
    {
     "name": "stdout",
     "output_type": "stream",
     "text": [
      "(2038, 7)\n"
     ]
    },
    {
     "data": {
      "text/html": [
       "<div>\n",
       "<table border=\"1\" class=\"dataframe\">\n",
       "  <thead>\n",
       "    <tr style=\"text-align: right;\">\n",
       "      <th></th>\n",
       "      <th>Open</th>\n",
       "      <th>High</th>\n",
       "      <th>Low</th>\n",
       "      <th>Close</th>\n",
       "      <th>Volume</th>\n",
       "      <th>Adj Close</th>\n",
       "      <th>Class</th>\n",
       "    </tr>\n",
       "  </thead>\n",
       "  <tbody>\n",
       "    <tr>\n",
       "      <th>2011-01-03</th>\n",
       "      <td>28.049999</td>\n",
       "      <td>28.18</td>\n",
       "      <td>27.920000</td>\n",
       "      <td>27.98</td>\n",
       "      <td>53443800</td>\n",
       "      <td>23.727305</td>\n",
       "      <td>0.0</td>\n",
       "    </tr>\n",
       "    <tr>\n",
       "      <th>2011-01-04</th>\n",
       "      <td>27.940001</td>\n",
       "      <td>28.17</td>\n",
       "      <td>27.850000</td>\n",
       "      <td>28.09</td>\n",
       "      <td>54405600</td>\n",
       "      <td>23.820586</td>\n",
       "      <td>0.0</td>\n",
       "    </tr>\n",
       "    <tr>\n",
       "      <th>2011-01-05</th>\n",
       "      <td>27.900000</td>\n",
       "      <td>28.01</td>\n",
       "      <td>27.770000</td>\n",
       "      <td>28.00</td>\n",
       "      <td>58998700</td>\n",
       "      <td>23.744265</td>\n",
       "      <td>0.0</td>\n",
       "    </tr>\n",
       "    <tr>\n",
       "      <th>2011-01-06</th>\n",
       "      <td>28.040001</td>\n",
       "      <td>28.85</td>\n",
       "      <td>27.860001</td>\n",
       "      <td>28.82</td>\n",
       "      <td>88026300</td>\n",
       "      <td>24.439633</td>\n",
       "      <td>0.0</td>\n",
       "    </tr>\n",
       "    <tr>\n",
       "      <th>2011-01-07</th>\n",
       "      <td>28.639999</td>\n",
       "      <td>28.74</td>\n",
       "      <td>28.250000</td>\n",
       "      <td>28.60</td>\n",
       "      <td>73762000</td>\n",
       "      <td>24.253071</td>\n",
       "      <td>0.0</td>\n",
       "    </tr>\n",
       "  </tbody>\n",
       "</table>\n",
       "</div>"
      ],
      "text/plain": [
       "                 Open   High        Low  Close    Volume  Adj Close  Class\n",
       "2011-01-03  28.049999  28.18  27.920000  27.98  53443800  23.727305    0.0\n",
       "2011-01-04  27.940001  28.17  27.850000  28.09  54405600  23.820586    0.0\n",
       "2011-01-05  27.900000  28.01  27.770000  28.00  58998700  23.744265    0.0\n",
       "2011-01-06  28.040001  28.85  27.860001  28.82  88026300  24.439633    0.0\n",
       "2011-01-07  28.639999  28.74  28.250000  28.60  73762000  24.253071    0.0"
      ]
     },
     "execution_count": 36,
     "metadata": {},
     "output_type": "execute_result"
    }
   ],
   "source": [
    "msft = msft.ix[:, :'Class']\n",
    "msft['Class'].fillna(0, inplace=True)\n",
    "msft = msft.drop_duplicates()\n",
    "print msft.shape\n",
    "\n",
    "msft.head()"
   ]
  },
  {
   "cell_type": "code",
   "execution_count": 37,
   "metadata": {
    "collapsed": false
   },
   "outputs": [
    {
     "name": "stdout",
     "output_type": "stream",
     "text": [
      "Accuracy on overall test set: 0.692307692308\n",
      "Accuracy on class -1 in test set: 0.0\n",
      "Accuracy on class 1 in test set: 0.0\n"
     ]
    }
   ],
   "source": [
    "# Train/test split\n",
    "\n",
    "x = msft.ix[:, :'Adj Close'].values\n",
    "y = msft.ix[:, -1].values\n",
    "\n",
    "n_samples = len(x)\n",
    "train_indices = np.random.uniform(size=n_samples) > 1. / 3.  #Select two thirds for train\n",
    "\n",
    "x_train = x[train_indices]\n",
    "y_train = y[train_indices]\n",
    "\n",
    "x_test = x[~train_indices]\n",
    "y_test = y[~train_indices]\n",
    "\n",
    "#Generate array of L2 regularization parameters\n",
    "regularization = 10.**np.arange(-10, 5)\n",
    "\n",
    "#Fit logistic model with cross validation to select the optimal regularization parameter\n",
    "logistic = LogRegCV(cv=3, \n",
    "                    penalty='l2', \n",
    "                    Cs=regularization, \n",
    "                    solver='newton-cg', \n",
    "                    n_jobs=2)\n",
    "logistic.fit(x_train, y_train)\n",
    "\n",
    "#Print results\n",
    "print 'Accuracy on overall test set:', logistic.score(x_test, y_test)\n",
    "print 'Accuracy on class -1 in test set:', logistic.score(x_test[y_test == -1], y_test[y_test == -1])\n",
    "print 'Accuracy on class 1 in test set:', logistic.score(x_test[y_test == 1], y_test[y_test == 1])"
   ]
  },
  {
   "cell_type": "markdown",
   "metadata": {},
   "source": [
    "# ???? Need to use multi-class SVM"
   ]
  }
 ],
 "metadata": {
  "anaconda-cloud": {},
  "kernelspec": {
   "display_name": "Python [Root]",
   "language": "python",
   "name": "Python [Root]"
  },
  "language_info": {
   "codemirror_mode": {
    "name": "ipython",
    "version": 2
   },
   "file_extension": ".py",
   "mimetype": "text/x-python",
   "name": "python",
   "nbconvert_exporter": "python",
   "pygments_lexer": "ipython2",
   "version": "2.7.12"
  }
 },
 "nbformat": 4,
 "nbformat_minor": 0
}
