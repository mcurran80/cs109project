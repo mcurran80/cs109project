{
 "cells": [
  {
   "cell_type": "markdown",
   "metadata": {},
   "source": [
    "# CSCI E-109a Final Project\n",
    "\n",
    "## Team Members: Melissa Curran, Alexander Dubitskiy, Deepika Singh, Liangliang Zhang\n",
    "\n"
   ]
  },
  {
   "cell_type": "markdown",
   "metadata": {
    "collapsed": true
   },
   "source": [
    "%%html\n",
    "\n",
    "<a href=\"cs109_anomaly_9_2.html\" target=\"_self\">First Project Page</a>\n",
    "\n",
    "<a href=\"cs109_anomaly_9_martingale_v5.html\" target=\"_self\">Second Project Page</a>\n",
    "\n",
    "<a href=\"cs109_anomaly_9_sp500.html\" target=\"_self\">Third Project Page</a>\n",
    "\n",
    "<a href=\"cs109_anomaly_apply.html\" target=\"_self\">Fourth Project Page</a>\n",
    "\n",
    "<a href=\"cs109_anomaly_data.html\" target=\"_self\">Fifth Project Page</a>\n",
    "\n",
    "<a href=\"cs109_anomaly_method.html\" target=\"_self\">Sixth Project Page</a>\n",
    "\n",
    "<a href=\"cs109_news.html\" target=\"_self\">Seventh Project Page</a>"
   ]
  }
 ],
 "metadata": {
  "anaconda-cloud": {},
  "kernelspec": {
   "display_name": "Python [conda root]",
   "language": "python",
   "name": "conda-root-py"
  },
  "language_info": {
   "codemirror_mode": {
    "name": "ipython",
    "version": 2
   },
   "file_extension": ".py",
   "mimetype": "text/x-python",
   "name": "python",
   "nbconvert_exporter": "python",
   "pygments_lexer": "ipython2",
   "version": "2.7.12"
  }
 },
 "nbformat": 4,
 "nbformat_minor": 1
}
